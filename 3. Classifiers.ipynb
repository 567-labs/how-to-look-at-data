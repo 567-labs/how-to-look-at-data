{
 "cells": [
  {
   "cell_type": "markdown",
   "metadata": {},
   "source": [
    "# Building Query Pattern Classifiers for RAG Systems\n",
    "\n",
    "# TODO: Add Artifact vs DOther\n",
    "# TODO: Add another label -> multi-label -> add cloud deployments/BYOI + DATA Import/Export\n",
    "# What should we invest in? -> Do people care about deployments/better artifacts etc\n",
    "# TODO: Make another streamlit app where we just validate the label from the llm and then we just accept/reject label + 123 for Other labels\n",
    "\n",
    "> Pre-requisites: Make sure you've completed the \"1. Cluster Conversations\" and \"2. Better Summaries\" notebooks to understand the underlying data and topic modeling results. You'll need the instructor and instructor_classify libraries installed, along with the labeled dataset we created from our clustering analysis.\n",
    "\n",
    "## Why This Matters\n",
    "\n",
    "In this notebook, we'll look at how we can act on these categories that we've discovered using topic modelling. We'll do so by deploying classifiers which will explicitly categorise user categories in real time.\n",
    "\n",
    "By doing so, we'll be able to \n",
    "\n",
    "1. Detect Production Drift : Identify when certain query types increase in volume\n",
    "2. Route queries appropriately : We can direct questions to specialised retrieval pipelines or tools based on their category\n",
    "\n",
    "More importantly, by identifying and tracking query volumes, we can systematically prioritise areas for improvement. \n",
    "\n",
    "If we identify categories of queries which have high user satisfaction with low volume or queries which have low user satisfaction with high volume, these are immediate areas fof concern and prioritisation. "
   ]
  },
  {
   "cell_type": "markdown",
   "metadata": {},
   "source": [
    "## What You'll Learn\n",
    "\n",
    "In this notebook, you'll discover how to:\n",
    "\n",
    "1. Generate Weak Labels with Instructor-Classify\n",
    "- Create an initial classifier using the instructor-classify framework\n",
    "- Generate preliminary labels for your conversation dataset\n",
    "- Prepare data for human verification\n",
    "\n",
    "\n",
    "2. Create a Golden Label Dataset with the Annotation Tool\n",
    "- Use app.py to review and correct weak labels\n",
    "- Determine if classifier predictions are accurate\n",
    "- Build a high-quality labeled dataset for evaluation\n",
    "\n",
    "\n",
    "3. Iteratively Improve Classification Accuracy\n",
    "- Start with a simple baseline classifier\n",
    "- Enhance performance with few-shot examples and system prompts\n",
    "- Measure improvements using confusion matrices and accuracy metrics"
   ]
  },
  {
   "cell_type": "markdown",
   "metadata": {},
   "source": [
    "## Defining Our Classifier\n",
    "\n",
    "Our topic modeling revealed several distinct clusters of user queries, with three major topics accounting for the majority of questions:\n",
    "\n",
    "1. Users seeking help with experiment tracking and metrics logging\n",
    "2. Users trying to manage artifacts and data versioning\n",
    "3. Users needing assistance with integrations and deployment\n",
    "\n",
    "In this notebook, we'll show how we might build a classifier which can identify queries related to creating, managing and versioning weights and biases artifacts. Let's define this using a binary classifier using `instructor-classify`"
   ]
  },
  {
   "cell_type": "code",
   "execution_count": 34,
   "metadata": {},
   "outputs": [],
   "source": [
    "from instructor_classify.schema import LabelDefinition, ClassificationDefinition\n",
    "\n",
    "artifact_label = LabelDefinition(\n",
    "    label=\"artifact\",\n",
    "    description=\"This is a user query and document pair which is about creating, versioning and managing weights and biases artifacts.\",\n",
    ")\n",
    "\n",
    "integrations_label = LabelDefinition(\n",
    "    label=\"integrations\",\n",
    "    description=\"this is a user query and document pair which is concerned with how we can integrate weights and biases with specific libraries\"\n",
    ")\n",
    "\n",
    "visualisation_label = LabelDefinition(\n",
    "    label=\"visualisation\",\n",
    "    description=\"This is a user query and document pair which is concerned about how we can visualise the data that we've logged with weights and biases\"\n",
    ")\n",
    "\n",
    "other_label = LabelDefinition(\n",
    "    label=\"other\",\n",
    "    description=\"Use this label for other query types which don't belong to any of the other defined categories that you have been provided with\",\n",
    ")\n",
    "\n",
    "\n",
    "classification_def = ClassificationDefinition(\n",
    "    system_message=\"You're an expert at classifying a user and document pair. Look closely at the user query and determine what the query is about and how the document helps answer it. Then classify it according to the label(s) above. Classify irrelevant ones as Other\",\n",
    "    label_definitions=[artifact_label, other_label, visualisation_label, integrations_label],\n",
    ")\n"
   ]
  },
  {
   "cell_type": "markdown",
   "metadata": {},
   "source": [
    "This structure makes it easy to define multiple categories in a way that's clear to both humans and LLMs. It provides explicit definitions of what each category means, making it easier for the model to make accurate predictions.\n",
    "\n",
    "Later in this notebook, we'll see how we can export this to a yaml format for easy versioning with `git`"
   ]
  },
  {
   "cell_type": "markdown",
   "metadata": {},
   "source": [
    "### A Simple Example\n",
    "\n",
    "Let's now see how `instructor-classify` works under the hood. We'll do so by passing in 4 sample queries and seeing how our classifier is able to deal with these test cases"
   ]
  },
  {
   "cell_type": "code",
   "execution_count": 37,
   "metadata": {},
   "outputs": [
    {
     "name": "stdout",
     "output_type": "stream",
     "text": [
      "Classification: labels=['artifact']\n",
      "Classification: labels=['other']\n"
     ]
    }
   ],
   "source": [
    "import instructor\n",
    "from instructor_classify.classify import Classifier\n",
    "from openai import OpenAI\n",
    "\n",
    "client = instructor.from_openai(OpenAI())\n",
    "classifier = (\n",
    "    Classifier(classification_def).with_client(client).with_model(\"gpt-4.1\")\n",
    ")\n",
    "\n",
    "# Make a prediction\n",
    "result = classifier.predict_multi(\"How do I version a weights and biases artifact?\")\n",
    "print(f\"Classification: {result}\")  # Should output \"artifact\";\n",
    "\n",
    "result_2 = classifier.predict_multi(\"What is the square root of 9?\")\n",
    "print(f\"Classification: {result_2}\")  # Should output \"not_artifact\""
   ]
  },
  {
   "cell_type": "markdown",
   "metadata": {},
   "source": [
    "`instructor-classify` exposes a `batch_predict` function which parallelises this operation for us so that we can run evaluations efficiently over large datasets. Let's see it in action below with some test cases\n"
   ]
  },
  {
   "cell_type": "code",
   "execution_count": 39,
   "metadata": {},
   "outputs": [
    {
     "name": "stderr",
     "output_type": "stream",
     "text": [
      "                                                             "
     ]
    },
    {
     "name": "stdout",
     "output_type": "stream",
     "text": [
      "Query: How do I version a weights and biases artifact?\n",
      "Classification: labels=['artifact']\n",
      "Expected: ['artifact']\n",
      "\n",
      "Query: What is the square root of 9?\n",
      "Classification: labels=['other']\n",
      "Expected: ['other']\n",
      "\n",
      "Query: How do I integrate weights and biases with pytorch?\n",
      "Classification: labels=['integrations']\n",
      "Expected: ['integrations']\n",
      "\n",
      "Query: How do I deploy weights and biases in my own infrastructure?\n",
      "Classification: labels=['other']\n",
      "Expected: ['other']\n",
      "\n",
      "Query: How can I log my model training runs using artifacts and then visualise it?\n",
      "Classification: labels=['artifact', 'visualisation']\n",
      "Expected: ['artifact', 'visualisations']\n",
      "\n"
     ]
    },
    {
     "name": "stderr",
     "output_type": "stream",
     "text": [
      "\r"
     ]
    }
   ],
   "source": [
    "tests = [\n",
    "    \"How do I version a weights and biases artifact?\",\n",
    "    \"What is the square root of 9?\",\n",
    "    \"How do I integrate weights and biases with pytorch?\",\n",
    "    \"How do I deploy weights and biases in my own infrastructure?\",\n",
    "    \"How can I log my model training runs using artifacts and then visualise it?\",\n",
    "]\n",
    "\n",
    "labels = [\n",
    "    [\"artifact\"],\n",
    "    [\"other\"],\n",
    "    [\"integrations\"],\n",
    "    [\"other\"],\n",
    "    [\"artifact\",\"visualisations\"],\n",
    "]\n",
    "\n",
    "results = classifier.batch_predict_multi(tests)\n",
    "for query, result, label in zip(tests, results, labels):\n",
    "    print(f\"Query: {query}\\nClassification: {result}\\nExpected: {label}\\n\")\n"
   ]
  },
  {
   "cell_type": "markdown",
   "metadata": {},
   "source": [
    "Our classifier performs pretty badly here, it only gets the right label 20% of the time. In the other cases, it simply just returns all of the labels.\n",
    "\n",
    "Let's now use our classifier to generate some weak labels. We'll then have a simple UI where we can either approve or reject these labels.\n",
    "\n",
    "We'll then filter through the rejected labels and manually label them ourselves thereafter in a separate step. By doing so, we can generate much more labels quickly."
   ]
  },
  {
   "cell_type": "code",
   "execution_count": 44,
   "metadata": {},
   "outputs": [
    {
     "name": "stderr",
     "output_type": "stream",
     "text": [
      "                                                                 \r"
     ]
    }
   ],
   "source": [
    "import json\n",
    "\n",
    "with open(\"./data/conversations.json\") as f:\n",
    "    data = json.loads(f.read())\n",
    "\n",
    "texts = [\n",
    "    {\n",
    "        \"query\": item[\"query\"],\n",
    "        \"matching_document\": item[\"matching_document\"],\n",
    "        \"query_id\": item[\"query_id\"],\n",
    "    }\n",
    "    for item in data\n",
    "]\n",
    "\n",
    "results = classifier.batch_predict_multi(texts[:110]) "
   ]
  },
  {
   "cell_type": "code",
   "execution_count": 45,
   "metadata": {},
   "outputs": [],
   "source": [
    "with open(\"./data/generated.jsonl\",\"w+\") as f:\n",
    "    for item,result in zip(data,results):\n",
    "        f.write(json.dumps({\n",
    "            \"query\": item[\"query\"],\n",
    "            \"matching_document\": item[\"matching_document\"],\n",
    "            \"query_id\": item[\"query_id\"],\n",
    "            \"labels\": result.labels\n",
    "        })+\"\\n\")"
   ]
  },
  {
   "cell_type": "markdown",
   "metadata": {},
   "source": [
    "## Evaluating Our Classifier\n",
    "\n",
    "We've labelled a dataset of ~100 items our of our 560 conversations ahead of time. If you'd like to label more datasets, we've provided an `app.py` file which you can run using the command `streamlit run app.py`.\n",
    "\n",
    "We'll be splitting this into a test and validation split. We'll be using the `validation` split to iterate on our prompt and experiment with different few shot examples before using the `test` split to validate our classifier's performance. \n",
    "\n",
    "We'll be using a 70-30 split with 70% of our data used for validation and 30% used for testing our final classifier. "
   ]
  },
  {
   "cell_type": "code",
   "execution_count": 46,
   "metadata": {},
   "outputs": [
    {
     "name": "stdout",
     "output_type": "stream",
     "text": [
      "Validation set size: 77\n",
      "Test set size: 33\n"
     ]
    }
   ],
   "source": [
    "import json\n",
    "import random\n",
    "\n",
    "with open(\"./data/labels.jsonl\") as f:\n",
    "    data = [json.loads(line) for line in f]\n",
    "\n",
    "# Set random seed for reproducibility\n",
    "random.seed(42)\n",
    "\n",
    "# Shuffle the data\n",
    "random.shuffle(data)\n",
    "\n",
    "# Calculate split index\n",
    "split_idx = int(len(data) * 0.7)\n",
    "\n",
    "# Split into validation and test sets\n",
    "val_set = data[:split_idx]\n",
    "test_set = data[split_idx:]\n",
    "\n",
    "print(f\"Validation set size: {len(val_set)}\")\n",
    "print(f\"Test set size: {len(test_set)}\")\n"
   ]
  },
  {
   "cell_type": "markdown",
   "metadata": {},
   "source": [
    "### Determining a baseline\n",
    "\n",
    "Let's now calculate a baseline and see how well our initial classification model performs."
   ]
  },
  {
   "cell_type": "code",
   "execution_count": 47,
   "metadata": {},
   "outputs": [],
   "source": [
    "val_text = [\n",
    "    f\"Query: {item['query']}\\n Retrieved Document: {item['matching_document']}\"\n",
    "    for item in val_set\n",
    "]\n",
    "val_labels = [item[\"labels\"] for item in val_set]\n",
    "\n",
    "test_text = [\n",
    "    f\"Query: {item['query']}\\n Retrieved Document: {item['matching_document']}\"\n",
    "    for item in test_set\n",
    "]\n",
    "test_labels = [item[\"labels\"] for item in test_set]"
   ]
  },
  {
   "cell_type": "markdown",
   "metadata": {},
   "source": [
    "Let's now define a function which runs the classifier on the validation set and the test set to see our initial starting point. We'll look at some of the failure cases and then iterately improve our classifier."
   ]
  },
  {
   "cell_type": "code",
   "execution_count": 51,
   "metadata": {},
   "outputs": [
    {
     "name": "stderr",
     "output_type": "stream",
     "text": [
      "                                                               \r"
     ]
    },
    {
     "data": {
      "text/plain": [
       "0.11688311688311688"
      ]
     },
     "execution_count": 51,
     "metadata": {},
     "output_type": "execute_result"
    }
   ],
   "source": [
    "from sklearn.metrics import confusion_matrix\n",
    "from instructor_classify.classify import Classifier\n",
    "\n",
    "def predict_and_evaluate(classifier: Classifier, texts: list[str], labels:list[list[str]]):\n",
    "    predictions = classifier.batch_predict_multi(texts)\n",
    "    pred_labels = [p.labels for p in predictions]\n",
    "    \n",
    "    return {\n",
    "        \"accuracy\": sum(set(p) == set(l) for p, l in zip(pred_labels, labels)) / len(predictions),\n",
    "        \"queries\": texts,\n",
    "        \"labels\": labels, \n",
    "        \"predictions\": pred_labels\n",
    "    }\n",
    "\n",
    "classifier = (\n",
    "    Classifier(classification_def).with_client(client).with_model(\"gpt-4.1\")\n",
    ")\n",
    "predictions = predict_and_evaluate(classifier, val_text, val_labels)\n",
    "predictions[\"accuracy\"]"
   ]
  },
  {
   "cell_type": "code",
   "execution_count": 52,
   "metadata": {},
   "outputs": [
    {
     "data": {
      "image/png": "[encoded data removed]",
      "text/plain": [
       "<Figure size 1000x1000 with 8 Axes>"
      ]
     },
     "metadata": {},
     "output_type": "display_data"
    }
   ],
   "source": [
    "import matplotlib.pyplot as plt\n",
    "import numpy as np\n",
    "from sklearn.metrics import multilabel_confusion_matrix, ConfusionMatrixDisplay\n",
    "\n",
    "# Get unique labels from all possible labels\n",
    "unique_labels = [\"artifact\", \"other\", \"visualisation\", \"integrations\"]\n",
    "\n",
    "# Convert predictions and true labels to binary matrix format\n",
    "y_true = np.array([[1 if label in true_set else 0 for label in unique_labels] \n",
    "                   for true_set in predictions[\"labels\"]])\n",
    "y_pred = np.array([[1 if label in pred_set else 0 for label in unique_labels]\n",
    "                   for pred_set in predictions[\"predictions\"]])\n",
    "\n",
    "# Calculate confusion matrix for each label\n",
    "conf_matrices = multilabel_confusion_matrix(y_true, y_pred)\n",
    "\n",
    "# Plot confusion matrix for each label\n",
    "fig, axes = plt.subplots(2, 2, figsize=(10, 10))\n",
    "for i, (matrix, label) in enumerate(zip(conf_matrices, unique_labels)):\n",
    "    ax = axes[i//2, i%2]\n",
    "    disp = ConfusionMatrixDisplay(confusion_matrix=matrix, display_labels=[f\"Not {label}\", label])\n",
    "    disp.plot(ax=ax)\n",
    "    ax.set_title(f'Confusion Matrix for {label}')\n",
    "\n",
    "plt.tight_layout()\n",
    "plt.show()"
   ]
  },
  {
   "cell_type": "markdown",
   "metadata": {},
   "source": [
    "Let's now see how it looks like when we run it on our test set"
   ]
  },
  {
   "cell_type": "code",
   "execution_count": 54,
   "metadata": {},
   "outputs": [
    {
     "name": "stderr",
     "output_type": "stream",
     "text": [
      "                                                               \r"
     ]
    },
    {
     "data": {
      "text/plain": [
       "0.09090909090909091"
      ]
     },
     "execution_count": 54,
     "metadata": {},
     "output_type": "execute_result"
    }
   ],
   "source": [
    "test_predictions = predict_and_evaluate(classifier,test_text, test_labels)\n",
    "test_predictions[\"accuracy\"]"
   ]
  },
  {
   "cell_type": "code",
   "execution_count": 55,
   "metadata": {},
   "outputs": [
    {
     "data": {
      "image/png": "[encoded data removed]",
      "text/plain": [
       "<Figure size 1000x1000 with 8 Axes>"
      ]
     },
     "metadata": {},
     "output_type": "display_data"
    }
   ],
   "source": [
    "import matplotlib.pyplot as plt\n",
    "import numpy as np\n",
    "from sklearn.metrics import multilabel_confusion_matrix, ConfusionMatrixDisplay\n",
    "\n",
    "# Get unique labels from all possible labels\n",
    "unique_labels = [\"artifact\", \"other\", \"visualisation\", \"integrations\"]\n",
    "\n",
    "# Convert predictions and true labels to binary matrix format\n",
    "y_true = np.array([[1 if label in true_set else 0 for label in unique_labels] \n",
    "                   for true_set in test_predictions[\"labels\"]])\n",
    "y_pred = np.array([[1 if label in pred_set else 0 for label in unique_labels]\n",
    "                   for pred_set in test_predictions[\"predictions\"]])\n",
    "\n",
    "# Calculate confusion matrix for each label\n",
    "conf_matrices = multilabel_confusion_matrix(y_true, y_pred)\n",
    "\n",
    "# Plot confusion matrix for each label\n",
    "fig, axes = plt.subplots(2, 2, figsize=(10, 10))\n",
    "for i, (matrix, label) in enumerate(zip(conf_matrices, unique_labels)):\n",
    "    ax = axes[i//2, i%2]\n",
    "    disp = ConfusionMatrixDisplay(confusion_matrix=matrix, display_labels=[f\"Not {label}\", label])\n",
    "    disp.plot(ax=ax)\n",
    "    ax.set_title(f'Confusion Matrix for {label}')\n",
    "\n",
    "plt.tight_layout()\n",
    "plt.show()"
   ]
  },
  {
   "cell_type": "markdown",
   "metadata": {},
   "source": [
    "Having an initial dataset to measure our LLM classifier performance was essential for identifying critical prompt engineering issues before deployment and establishing a baseline for improvement. Without this evaluation, we would have been unaware of how poorly our current prompts are guiding the model's classification decisions, potentially leading to unreliable outputs in production.\n",
    "\n",
    "This initial evaluation reveals that our LLM classifier suffers from severe positive prediction bias across all categories, with accuracy ranging from 12.1% for visualization detection to 60.6% for \"other\" classification. Let's take a look at the "
   ]
  },
  {
   "cell_type": "markdown",
   "metadata": {},
   "source": [
    "### Looking at Edge Cases\n",
    "\n",
    "Let's now look at the cases where our model performed badly. We can see from our confusion matrix above that our classifier tends to classify non-artifact related queries as artifact queries. \n",
    "\n",
    "Let's look through some of the failed cases manually where this happens from our validation set to see if we might be ale to understand why this is happening."
   ]
  },
  {
   "cell_type": "code",
   "execution_count": 71,
   "metadata": {},
   "outputs": [
    {
     "data": {
      "text/plain": [
       "(77, 77)"
      ]
     },
     "execution_count": 71,
     "metadata": {},
     "output_type": "execute_result"
    }
   ],
   "source": [
    "len(predictions[\"labels\"]), len(predictions[\"labels\"])"
   ]
  },
  {
   "cell_type": "code",
   "execution_count": 76,
   "metadata": {},
   "outputs": [
    {
     "name": "stdout",
     "output_type": "stream",
     "text": [
      "Examining Failure Cases for artifact\n",
      "\n",
      "=====\n",
      "\n",
      "Prediction: ['artifact', 'other', 'visualisation', 'integrations']            \n",
      "Label: ['artifact']\n",
      "\n",
      "Query: \n",
      "Query: Steps to link a run to the model registry in Weights & Biases.\n",
      " Retrieved Document: ## W&B Tutorial with Pytorch Lightning\n",
      "### Model Registry\n",
      "\n",
      "After logging a bunch of checkpoints across multiple runs during experimentation, now comes time to hand-off the best checkpoint to the next stage of the workflow (e.g. testing, deployment).  \n",
      "\n",
      "The model registry offers a centralized place to house the best checkpoints for all your model tasks. Any `model` artifact you log can be \"linked\" to a Registered Model. Here are the steps to start using the model registry for more organized model management:\n",
      "1. Access your team's model registry by going the team page and selecting `Model Registry`  \n",
      "\n",
      "1. Create a new Registered Model.\n",
      "2. Go to the artifacts tab of the project that holds all your model checkpoints\n",
      "3. Click \"Link to Registry\" for the model artifact version you want. (Alternatively you can link a model via api with `wandb.run.link_artifact`)\n",
      "\n",
      "======\n",
      "\n",
      "\n",
      "=====\n",
      "\n",
      "Prediction: ['artifact', 'visualisation', 'integrations', 'other']            \n",
      "Label: ['artifact']\n",
      "\n",
      "Query: \n",
      "Query: tracking experiments with wandb\n",
      " Retrieved Document: ## Track Experiments\n",
      "### How it works\n",
      "Track a machine learning experiment with a few lines of code:\n",
      "1. Create a W&B run.\n",
      "2. Store a dictionary of hyperparameters, such as learning rate or model type, into your configuration (`wandb.config`).\n",
      "3. Log metrics (`wandb.log()`) over time in a training loop, such as accuracy and loss.\n",
      "4. Save outputs of a run, like the model weights or a table of predictions.  \n",
      "\n",
      "The proceeding pseudocode demonstrates a common W&B Experiment tracking workflow:  \n",
      "\n",
      "```python showLineNumbers\n",
      "\n",
      "# 1. Start a W&B Run\n",
      "\n",
      "wandb.init(entity=\"\", project=\"my-project-name\")\n",
      "\n",
      "# 2. Save mode inputs and hyperparameters\n",
      "\n",
      "wandb.config.learning\\_rate = 0.01\n",
      "\n",
      "# Import model and data\n",
      "\n",
      "model, dataloader = get\\_model(), get\\_data()\n",
      "\n",
      "# Model training code goes here\n",
      "\n",
      "# 3. Log metrics over time to visualize performance\n",
      "\n",
      "wandb.log({\"loss\": loss})\n",
      "\n",
      "# 4. Log an artifact to W&B\n",
      "\n",
      "wandb.log\\_artifact(model)\n",
      "```\n",
      "\n",
      "======\n",
      "\n",
      "\n",
      "=====\n",
      "\n",
      "Prediction: ['artifact', 'other', 'visualisation', 'integrations']            \n",
      "Label: ['artifact']\n",
      "\n",
      "Query: \n",
      "Query: Weights & Biases artifacts\n",
      " Retrieved Document: ## Artifacts\n",
      "### How it works\n",
      "Create an artifact with four lines of code:\n",
      "1. Create a W&B run.\n",
      "2. Create an artifact object with the `wandb.Artifact` API.\n",
      "3. Add one or more files, such as a model file or dataset, to your artifact object.\n",
      "4. Log your artifact to W&B.  \n",
      "\n",
      "`python showLineNumbers\n",
      "run = wandb.init(project=\"artifacts-example\", job_type=\"add-dataset\")\n",
      "artifact = wandb.Artifact(name=\"my_data\", type=\"dataset\")\n",
      "artifact.add_dir(local_path=\"./dataset.h5\") # Add dataset directory to artifact\n",
      "run.log_artifact(artifact) # Logs the artifact version \"my_data:v0\"`  \n",
      "\n",
      ":::tip\n",
      "The preceding code snippet, and the colab linked on this page, show how to track files by uploading them to W&B. See the track external files page for information on how to add references to files or directories that are stored in external object storage (for example, in an Amazon S3 bucket).\n",
      ":::\n",
      "\n",
      "======\n",
      "\n",
      "========\n",
      "\n",
      "\n",
      "\n",
      "\n"
     ]
    }
   ],
   "source": [
    "labels = [label.label for label in classifier.definition.label_definitions]\n",
    "\n",
    "for classification_label_option in labels:\n",
    "    count = 3\n",
    "    print(f\"Examining Failure Cases for {classification_label_option}\")\n",
    "    for query,prediction,label in zip(predictions['queries'],predictions[\"predictions\"],predictions[\"labels\"]):\n",
    "        if classification_label_option in label and set(label) != set(prediction):\n",
    "            print(f\"\"\"\n",
    "=====\n",
    "\n",
    "Prediction: {prediction}            \n",
    "Label: {label}\n",
    "\n",
    "Query: \n",
    "{query}\n",
    "\n",
    "======\n",
    "\"\"\")\n",
    "            count-=1\n",
    "        \n",
    "        if count == 0:\n",
    "            break\n",
    "    print(\"========\\n\\n\\n\\n\")\n",
    "    \n",
    "    break\n"
   ]
  },
  {
   "cell_type": "markdown",
   "metadata": {},
   "source": [
    "We can see here that there are a few queries here that are tripping up our classifier\n",
    "\n",
    "1. `What are the key features of wandb` : This includes some information about Artifacts in the retrieved document but the user's query itself is not explicitly about the usage of Artifacts with Weights and Biases.\n",
    "\n",
    "2. `Weights & Biases integration OpenAI` : This is a question about integrations, specifically about the OpenAI integration with WandDB and the user's query is not related to the storage, usage or management of artifacts at all\n",
    "\n",
    "Let's see how we can improve on `instructor-classify` by leveraging few shot examples and a better system prompt"
   ]
  },
  {
   "cell_type": "code",
   "execution_count": 83,
   "metadata": {},
   "outputs": [
    {
     "data": {
      "text/plain": [
       "MultiClassificationModel(labels=['artifact'])"
      ]
     },
     "execution_count": 83,
     "metadata": {},
     "output_type": "execute_result"
    }
   ],
   "source": [
    "import instructor\n",
    "from instructor_classify.classify import Classifier\n",
    "from instructor_classify.schema import LabelDefinition, ClassificationDefinition\n",
    "from openai import OpenAI\n",
    "\n",
    "client = instructor.from_openai(OpenAI())\n",
    "\n",
    "artifact_label = LabelDefinition(\n",
    "    label=\"artifact\",\n",
    "    description=\"This is a user query and document pair which is about creating, versioning and managing weights and biases artifacts.\",\n",
    ")\n",
    "\n",
    "integrations_label = LabelDefinition(\n",
    "    label=\"integrations\",\n",
    "    description=\"this is a user query and document pair which is concerned with how we can integrate weights and biases with specific libraries\"\n",
    ")\n",
    "\n",
    "visualisation_label = LabelDefinition(\n",
    "    label=\"visualisation\",\n",
    "    description=\"This is a user query and document pair which is concerned about how we can visualise the data that we've logged with weights and biases\"\n",
    ")\n",
    "\n",
    "other_label = LabelDefinition(\n",
    "    label=\"other\",\n",
    "    description=\"Use this label for other query types which don't belong to any of the other defined categories that you have been provided with\",\n",
    ")\n",
    "\n",
    "\n",
    "classification_def = ClassificationDefinition(\n",
    "    system_message=\"\"\"You're an expert at classifying Weights & Biases user queries and documentation pairs. Carefully analyze the user's query to determine if it falls into one of these categories: 1) Artifacts - questions about creating, versioning and managing W&B artifacts, 2) Integrations - questions about integrating W&B with specific libraries/tools, 3) Visualization - questions about visualizing logged data in W&B, or 4) Other - queries that don't fit the above categories. Focus primarily on the user's intent in their query. When analyzing the documentation, only consider the parts that are relevant to answering the user's specific question. Even if the documentation mentions multiple topics, classify based solely on what the user is explicitly asking about.\"\"\",\n",
    "    label_definitions=[artifact_label, other_label, visualisation_label, integrations_label],\n",
    ")\n",
    "\n",
    "\n",
    "classifier = (\n",
    "    Classifier(classification_def).with_client(client).with_model(\"gpt-4.1\")\n",
    ")\n",
    "\n",
    "classifier.predict_multi(\n",
    "    text=\"\"\"\n",
    "<user query>\n",
    "    Steps to link a run to the model registry in Weights & Biases.\n",
    "</user query>\n",
    "\n",
    "<context>\n",
    " Retrieved Document: ## W&B Tutorial with Pytorch Lightning\n",
    "### Model Registry\n",
    "\n",
    "After logging a bunch of checkpoints across multiple runs during experimentation, now comes time to hand-off the best checkpoint to the next stage of the workflow (e.g. testing, deployment).  \n",
    "\n",
    "The model registry offers a centralized place to house the best checkpoints for all your model tasks. Any `model` artifact you log can be \"linked\" to a Registered Model. Here are the steps to start using the model registry for more organized model management:\n",
    "1. Access your team's model registry by going the team page and selecting `Model Registry`  \n",
    "\n",
    "1. Create a new Registered Model.\n",
    "2. Go to the artifacts tab of the project that holds all your model checkpoints\n",
    "3. Click \"Link to Registry\" for the model artifact version you want. (Alternatively you can link a model via api with `wandb.run.link_artifact`)\n",
    "</context>\n",
    "\"\"\"\n",
    ")"
   ]
  },
  {
   "cell_type": "markdown",
   "metadata": {},
   "source": [
    "## Improving Our Classifier\n",
    "\n",
    "Now that we've identified these cases, we can do two main things to improve our classifier. \n",
    "\n",
    "The first thing is to supply a better system prompt. Specifically we'll tell our model to look closely at the user query to determine if the user has an initial query about manging and versioning artifacts."
   ]
  },
  {
   "cell_type": "code",
   "execution_count": 119,
   "metadata": {},
   "outputs": [],
   "source": [
    "from instructor_classify.schema import LabelDefinition, ClassificationDefinition\n",
    "\n",
    "artifact_label = LabelDefinition(\n",
    "    label=\"artifact\",\n",
    "    description=\"This is a user query and document pair which has a user query that is about creating, versioning and managing weights and biases artifacts.\",\n",
    ")\n",
    "\n",
    "not_artefact_label = LabelDefinition(\n",
    "    label=\"not_artifact\",\n",
    "    description=\"This is a user query and document pair which does not have a user query that is about creating, versioning and managing weights and biases artifacts.\",\n",
    ")\n",
    "\n",
    "classification_def = ClassificationDefinition(\n",
    "    system_message=\"\"\"\n",
    "You're an expert at classifying user queries and documents as related to creating, versioning and managing weights and biases artifacts.\n",
    "\n",
    "You'll be given a user query and a retrieved matching document. Your job is to classify the user query as either an artifact query or not an artifact query.\n",
    "\n",
    "Your job is to look closely at the user query and the retrieved document to determine if the user's query is about creating, versioning and managing weights and biases artifacts. This does not include queries about integrations with other libraries/providers unless the user is explicitly asking about how to manage the artifacts from these integrations.\n",
    "\"\"\",\n",
    "    label_definitions=[artifact_label, not_artefact_label],\n",
    ")\n"
   ]
  },
  {
   "cell_type": "code",
   "execution_count": 120,
   "metadata": {},
   "outputs": [],
   "source": [
    "client = instructor.from_openai(OpenAI())\n",
    "classifier = (\n",
    "    Classifier(classification_def).with_client(client).with_model(\"gpt-4.1-mini\")\n",
    ")"
   ]
  },
  {
   "cell_type": "code",
   "execution_count": 122,
   "metadata": {},
   "outputs": [
    {
     "name": "stderr",
     "output_type": "stream",
     "text": [
      "                                                         \r"
     ]
    },
    {
     "data": {
      "text/plain": [
       "0.9506172839506173"
      ]
     },
     "execution_count": 122,
     "metadata": {},
     "output_type": "execute_result"
    }
   ],
   "source": [
    "def predict_and_evaluate(classifier, texts, labels):\n",
    "    predictions = classifier.batch_predict(texts)\n",
    "    return {\n",
    "        \"accuracy\": sum(pred.label == label for pred, label in zip(predictions, labels))\n",
    "        / len(predictions),\n",
    "        \"confusion_matrix\": confusion_matrix(\n",
    "            labels, [p.label for p in predictions], labels=[\"artifact\", \"not_artifact\"]\n",
    "        ),\n",
    "        \"queries\": texts,\n",
    "        \"labels\": labels,\n",
    "        \"predictions\": [p.label for p in predictions],\n",
    "    }\n",
    "\n",
    "\n",
    "predictions = predict_and_evaluate(classifier, val_text, val_labels)\n",
    "predictions[\"accuracy\"]"
   ]
  },
  {
   "cell_type": "markdown",
   "metadata": {},
   "source": [
    "Let's now see how our model performs by using a confusion matrix"
   ]
  },
  {
   "cell_type": "code",
   "execution_count": 123,
   "metadata": {},
   "outputs": [
    {
     "data": {
      "image/png": "[encoded data removed]",
      "text/plain": [
       "<Figure size 640x480 with 2 Axes>"
      ]
     },
     "metadata": {},
     "output_type": "display_data"
    }
   ],
   "source": [
    "import matplotlib.pyplot as plt\n",
    "from sklearn.metrics import ConfusionMatrixDisplay\n",
    "\n",
    "disp = ConfusionMatrixDisplay(\n",
    "    confusion_matrix=predictions[\"confusion_matrix\"],\n",
    "    display_labels=[\"artifact\", \"not_artifact\"],\n",
    ")\n",
    "disp.plot()\n",
    "plt.show()"
   ]
  },
  {
   "cell_type": "markdown",
   "metadata": {},
   "source": [
    "Let's now examine our last 4 failure cases and see if we can get aroud this"
   ]
  },
  {
   "cell_type": "code",
   "execution_count": 124,
   "metadata": {},
   "outputs": [
    {
     "name": "stdout",
     "output_type": "stream",
     "text": [
      "=====\n",
      "Label: not_artifact\n",
      "Prediction: artifact\n",
      "Query: wandb.Table documentation\n",
      " Retrieved Document: ## Table\n",
      "\n",
      "View source on GitHub  \n",
      "\n",
      "The Table class used to display and analyze tabular data.  \n",
      "\n",
      "```\n",
      "Table(\n",
      "columns=None, data=None, rows=None, dataframe=None, dtype=None, optional=(True),\n",
      "allow\\_mixed\\_types=(False)\n",
      ")\n",
      "\n",
      "```  \n",
      "\n",
      "Unlike traditional spreadsheets, Tables support numerous types of data:\n",
      "scalar values, strings, numpy arrays, and most subclasses of `wandb.data_types.Media`.\n",
      "This means you can embed `Images`, `Video`, `Audio`, and other sorts of rich, annotated media\n",
      "directly in Tables, alongside other traditional scalar values.  \n",
      "\n",
      "This class is the primary class used to generate the Table Visualizer\n",
      "in the UI: <https://docs.wandb.ai/guides/data-vis/tables>.  \n",
      "\n",
      "Tables can be constructed with initial data using the `data` or\n",
      "`dataframe` parameters:\n",
      "=====\n",
      "=====\n",
      "Label: not_artifact\n",
      "Prediction: artifact\n",
      "Query: Integrating Weights & Biases with Hugging Face's Accelerate\n",
      " Retrieved Document: ## Hugging Face Accelerate\n",
      "\n",
      "Accelerate is a library that enables the same PyTorch code to be run across any distributed configuration by adding just four lines of code, making training and inference at scale made simple, efficient and adaptable.  \n",
      "\n",
      "Accelerate includes a Weights & Biases Tracker which we show how to use below. You can also read more about Accelerate Trackers in **their docs here**  \n",
      "\n",
      "## Start logging with Accelerate  \n",
      "\n",
      "To get started with Accelerate and Weights & Biases you can follow the pseudocode below:  \n",
      "\n",
      "## Accessing Accelerates' Internal W&B Tracker  \n",
      "\n",
      "You can quickly access the wandb tracker using the Accelerator.get\\_tracker() method. Just pass in the string corresponding to a tracker’s .name attribute and it will return that tracker on the main process.  \n",
      "\n",
      "```\n",
      "wandb\\_tracker = accelerator.get\\_tracker(\"wandb\")\n",
      "\n",
      "```  \n",
      "\n",
      "From there you can interact with wandb’s run object like normal:  \n",
      "\n",
      "```\n",
      "wandb\\_tracker.log\\_artifact(some\\_artifact\\_to\\_log)\n",
      "\n",
      "```  \n",
      "\n",
      "## Accelerate Articles\n",
      "=====\n",
      "=====\n",
      "Label: not_artifact\n",
      "Prediction: artifact\n",
      "Query: using tables in W&B\n",
      " Retrieved Document: ---  \n",
      "\n",
      "## description: Explore how to use W&B Tables with this 5 minute Quickstart.  \n",
      "\n",
      "# Tables Quickstart  \n",
      "\n",
      "The following Quickstart demonstrates how to log data tables, visualize data, and query data.  \n",
      "\n",
      "Select the button below to try a PyTorch Quickstart example project on MNIST data.  \n",
      "\n",
      "## 1. Log a table  \n",
      "\n",
      "Follow the procedure outlined below to log a Table with W&B:\n",
      "1. Initialize a W&B Run with `wandb.init()`.\n",
      "2. Create a `wandb.Table()` object instance. Pass the name of the columns in your table along with the data for the `columns` and `data` parameters, respectively.  \n",
      "\n",
      "3. Log the table with `run.log()` as a key-value pair. Provide a name for your table for the key, and pass the object instance of `wandb.Table` as the value.  \n",
      "\n",
      "```\n",
      "run = wandb.init(project=\"table-test\")\n",
      "my\\_table = wandb.Table(columns=[\"a\", \"b\"], data=[[\"a1\", \"b1\"], [\"a2\", \"b2\"]])\n",
      "run.log({\"Table Name\": my\\_table})\n",
      "\n",
      "```  \n",
      "\n",
      "## 2. Visualize tables in the workspace  \n",
      "\n",
      "## 3. Compare across model versions\n",
      "=====\n",
      "=====\n",
      "Label: artifact\n",
      "Prediction: not_artifact\n",
      "Query: WandB logging best practices\n",
      " Retrieved Document: ## ✍️ W&B Best Practices\n",
      "\n",
      "1. **Projects**: Log multiple runs to a project to compare them. `wandb.init(project=\"project-name\")`\n",
      "2. **Groups**: For multiple processes or cross validation folds, log each process as a runs and group them together. `wandb.init(group=\"experiment-1\")`\n",
      "3. **Tags**: Add tags to track your current baseline or production model.\n",
      "4. **Notes**: Type notes in the table to track the changes between runs.\n",
      "5. **Reports**: Take quick notes on progress to share with colleagues and make dashboards and snapshots of your ML projects.\n",
      "=====\n"
     ]
    }
   ],
   "source": [
    "count = 3\n",
    "for query, label, pred in zip(\n",
    "    predictions[\"queries\"], predictions[\"labels\"], predictions[\"predictions\"]\n",
    "):\n",
    "    count -= 1\n",
    "    if label != pred:\n",
    "        print(\"=====\")\n",
    "        print(f\"Label: {label}\")\n",
    "        print(f\"Prediction: {pred}\")\n",
    "        print(f\"{query}\")\n",
    "        print(\"=====\")\n",
    "\n",
    "    if count == 3:\n",
    "        break"
   ]
  },
  {
   "cell_type": "markdown",
   "metadata": {},
   "source": [
    "## Conclusion\n",
    "In this series of notebooks, we've built a systematic workflow for improving RAG systems through query pattern analysis. Beginning with topic modeling, we identified key clusters around experiment tracking, artifact management, and integrations in Weights & Biases, giving us insight into what users are actually asking and where our system might be falling short.\n",
    "\n",
    "We enhanced our approach by developing domain-specific summarization techniques that transformed generic descriptions into precise insights about W&B features and user intents. This led to more meaningful clusters that better reflected real user needs and created a foundation for targeted improvements.\n",
    "\n",
    "Finally, we built a classifier to automatically categorize incoming queries, enabling ongoing monitoring and targeted interventions. This classification system now sets the stage for more advanced RAG components - specialized retrieval pipelines, metadata extraction, and function calling systems that address specific user needs effectively. By understanding query patterns systematically, we've created a data-driven foundation for continuous RAG improvement based on actual user behavior."
   ]
  }
 ],
 "metadata": {
  "kernelspec": {
   "display_name": ".venv",
   "language": "python",
   "name": "python3"
  },
  "language_info": {
   "codemirror_mode": {
    "name": "ipython",
    "version": 3
   },
   "file_extension": ".py",
   "mimetype": "text/x-python",
   "name": "python",
   "nbconvert_exporter": "python",
   "pygments_lexer": "ipython3",
   "version": "3.12.7"
  }
 },
 "nbformat": 4,
 "nbformat_minor": 2
}
